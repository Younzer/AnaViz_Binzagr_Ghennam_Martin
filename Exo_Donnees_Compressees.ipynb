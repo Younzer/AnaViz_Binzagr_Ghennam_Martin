{
 "cells": [
  {
   "cell_type": "code",
   "execution_count": 6,
   "metadata": {},
   "outputs": [],
   "source": [
    "# Import des librairies\n",
    "import os\n",
    "import sys \n",
    "import shutil\n",
    "import pandas as pd\n",
    "from dateutil import parser\n",
    "import traceback\n",
    "import zipfile"
   ]
  },
  {
   "cell_type": "markdown",
   "metadata": {},
   "source": [
    "### Lecture des fichiers"
   ]
  },
  {
   "cell_type": "code",
   "execution_count": 65,
   "metadata": {
    "scrolled": true
   },
   "outputs": [],
   "source": [
    "zf = zipfile.ZipFile('brut.zip')\n",
    "\n",
    "columns_status = ['date','Station','Status','Vélos_dispos','Emplacements_dispos']\n",
    "columns_meteo = ['Timestamp','Status','Clouds','Humidity','Pressure','Rain','WindGust','WindVarEnd','WindVarBeg','WindDeg','WindSpeed','Snow','TemperatureMax','TemperatureMin','TemperatureTemp']\n",
    "\n",
    "# On prend soin de ne lire que les 1000 premières lignes \n",
    "# pour ne pas travailler directement sur l'entièreté des données\n",
    "# De plus, on utilise le parseur de date -->\n",
    "df_velos = pd.read_csv(zf.open(zipfile.ZipFile.namelist(zf)[1]),sep=';', nrows=1000)\n",
    "df_status = pd.read_csv(zf.open(zipfile.ZipFile.namelist(zf)[2]),sep=';', names=columns_status, nrows=1000,parse_dates=['date'])\n",
    "df_meteo = pd.read_csv(zf.open(zipfile.ZipFile.namelist(zf)[3]),sep=';',names=columns_meteo, nrows=1000, parse_dates=['Timestamp'])"
   ]
  },
  {
   "cell_type": "markdown",
   "metadata": {},
   "source": [
    "### Suppression données abérentes"
   ]
  },
  {
   "cell_type": "markdown",
   "metadata": {},
   "source": [
    "On commence par s'assurer que la colonnes des dates et heures contient des données cohérentes. Pour ce, on convertit ces colones au format datetimes64. On considère que si aucune erreur ne ressort c'est que les données ne sont pas abérentes."
   ]
  },
  {
   "cell_type": "code",
   "execution_count": 63,
   "metadata": {},
   "outputs": [
    {
     "name": "stdout",
     "output_type": "stream",
     "text": [
      "Voici un apperçu du DataFrame\n"
     ]
    },
    {
     "data": {
      "text/html": [
       "<div>\n",
       "<style scoped>\n",
       "    .dataframe tbody tr th:only-of-type {\n",
       "        vertical-align: middle;\n",
       "    }\n",
       "\n",
       "    .dataframe tbody tr th {\n",
       "        vertical-align: top;\n",
       "    }\n",
       "\n",
       "    .dataframe thead th {\n",
       "        text-align: right;\n",
       "    }\n",
       "</style>\n",
       "<table border=\"1\" class=\"dataframe\">\n",
       "  <thead>\n",
       "    <tr style=\"text-align: right;\">\n",
       "      <th></th>\n",
       "      <th>Timestamp</th>\n",
       "      <th>Status</th>\n",
       "      <th>Clouds</th>\n",
       "      <th>Humidity</th>\n",
       "      <th>Pressure</th>\n",
       "      <th>Rain</th>\n",
       "      <th>WindGust</th>\n",
       "      <th>WindVarEnd</th>\n",
       "      <th>WindVarBeg</th>\n",
       "      <th>WindDeg</th>\n",
       "      <th>WindSpeed</th>\n",
       "      <th>Snow</th>\n",
       "      <th>TemperatureMax</th>\n",
       "      <th>TemperatureMin</th>\n",
       "      <th>TemperatureTemp</th>\n",
       "    </tr>\n",
       "  </thead>\n",
       "  <tbody>\n",
       "    <tr>\n",
       "      <th>0</th>\n",
       "      <td>2014-11-14 09:35:38</td>\n",
       "      <td>clouds</td>\n",
       "      <td>40</td>\n",
       "      <td>100</td>\n",
       "      <td>1013.0</td>\n",
       "      <td>{u'3h': 0}</td>\n",
       "      <td>None</td>\n",
       "      <td>None</td>\n",
       "      <td>None</td>\n",
       "      <td>200.504</td>\n",
       "      <td>0.84</td>\n",
       "      <td>{}</td>\n",
       "      <td>9.0</td>\n",
       "      <td>9.0</td>\n",
       "      <td>9.0</td>\n",
       "    </tr>\n",
       "    <tr>\n",
       "      <th>1</th>\n",
       "      <td>2014-11-14 09:45:05</td>\n",
       "      <td>mist</td>\n",
       "      <td>40</td>\n",
       "      <td>100</td>\n",
       "      <td>1014.0</td>\n",
       "      <td>{u'3h': 0}</td>\n",
       "      <td>None</td>\n",
       "      <td>None</td>\n",
       "      <td>None</td>\n",
       "      <td>200.504</td>\n",
       "      <td>0.84</td>\n",
       "      <td>{}</td>\n",
       "      <td>10.0</td>\n",
       "      <td>10.0</td>\n",
       "      <td>10.0</td>\n",
       "    </tr>\n",
       "    <tr>\n",
       "      <th>2</th>\n",
       "      <td>2014-11-14 09:50:05</td>\n",
       "      <td>mist</td>\n",
       "      <td>40</td>\n",
       "      <td>100</td>\n",
       "      <td>1014.0</td>\n",
       "      <td>{u'3h': 0}</td>\n",
       "      <td>None</td>\n",
       "      <td>None</td>\n",
       "      <td>None</td>\n",
       "      <td>200.504</td>\n",
       "      <td>0.84</td>\n",
       "      <td>{}</td>\n",
       "      <td>10.0</td>\n",
       "      <td>10.0</td>\n",
       "      <td>10.0</td>\n",
       "    </tr>\n",
       "    <tr>\n",
       "      <th>3</th>\n",
       "      <td>2014-11-14 09:55:05</td>\n",
       "      <td>clouds</td>\n",
       "      <td>40</td>\n",
       "      <td>100</td>\n",
       "      <td>1013.0</td>\n",
       "      <td>{u'3h': 0}</td>\n",
       "      <td>None</td>\n",
       "      <td>None</td>\n",
       "      <td>None</td>\n",
       "      <td>200.504</td>\n",
       "      <td>0.84</td>\n",
       "      <td>{}</td>\n",
       "      <td>9.0</td>\n",
       "      <td>9.0</td>\n",
       "      <td>9.0</td>\n",
       "    </tr>\n",
       "    <tr>\n",
       "      <th>4</th>\n",
       "      <td>2014-11-14 10:00:04</td>\n",
       "      <td>mist</td>\n",
       "      <td>40</td>\n",
       "      <td>100</td>\n",
       "      <td>1014.0</td>\n",
       "      <td>{u'3h': 0}</td>\n",
       "      <td>None</td>\n",
       "      <td>None</td>\n",
       "      <td>None</td>\n",
       "      <td>200.504</td>\n",
       "      <td>0.84</td>\n",
       "      <td>{}</td>\n",
       "      <td>10.0</td>\n",
       "      <td>10.0</td>\n",
       "      <td>10.0</td>\n",
       "    </tr>\n",
       "  </tbody>\n",
       "</table>\n",
       "</div>"
      ],
      "text/plain": [
       "            Timestamp  Status  Clouds  Humidity  Pressure        Rain  \\\n",
       "0 2014-11-14 09:35:38  clouds      40       100    1013.0  {u'3h': 0}   \n",
       "1 2014-11-14 09:45:05    mist      40       100    1014.0  {u'3h': 0}   \n",
       "2 2014-11-14 09:50:05    mist      40       100    1014.0  {u'3h': 0}   \n",
       "3 2014-11-14 09:55:05  clouds      40       100    1013.0  {u'3h': 0}   \n",
       "4 2014-11-14 10:00:04    mist      40       100    1014.0  {u'3h': 0}   \n",
       "\n",
       "  WindGust WindVarEnd WindVarBeg  WindDeg  WindSpeed Snow  TemperatureMax  \\\n",
       "0     None       None       None  200.504       0.84   {}             9.0   \n",
       "1     None       None       None  200.504       0.84   {}            10.0   \n",
       "2     None       None       None  200.504       0.84   {}            10.0   \n",
       "3     None       None       None  200.504       0.84   {}             9.0   \n",
       "4     None       None       None  200.504       0.84   {}            10.0   \n",
       "\n",
       "   TemperatureMin  TemperatureTemp  \n",
       "0             9.0              9.0  \n",
       "1            10.0             10.0  \n",
       "2            10.0             10.0  \n",
       "3             9.0              9.0  \n",
       "4            10.0             10.0  "
      ]
     },
     "execution_count": 63,
     "metadata": {},
     "output_type": "execute_result"
    }
   ],
   "source": [
    "print('Voici un apperçu du DataFrame')\n",
    "df_meteo.head()"
   ]
  },
  {
   "cell_type": "code",
   "execution_count": 69,
   "metadata": {
    "scrolled": true
   },
   "outputs": [
    {
     "name": "stdout",
     "output_type": "stream",
     "text": [
      "<class 'pandas.core.frame.DataFrame'>\n",
      "RangeIndex: 1000 entries, 0 to 999\n",
      "Data columns (total 15 columns):\n",
      "Timestamp          1000 non-null datetime64[ns]\n",
      "Status             1000 non-null object\n",
      "Clouds             1000 non-null int64\n",
      "Humidity           1000 non-null int64\n",
      "Pressure           1000 non-null float64\n",
      "Rain               1000 non-null object\n",
      "WindGust           1000 non-null object\n",
      "WindVarEnd         1000 non-null object\n",
      "WindVarBeg         1000 non-null object\n",
      "WindDeg            1000 non-null float64\n",
      "WindSpeed          1000 non-null float64\n",
      "Snow               1000 non-null object\n",
      "TemperatureMax     1000 non-null float64\n",
      "TemperatureMin     1000 non-null float64\n",
      "TemperatureTemp    1000 non-null float64\n",
      "dtypes: datetime64[ns](1), float64(6), int64(2), object(6)\n",
      "memory usage: 117.3+ KB\n"
     ]
    }
   ],
   "source": [
    "df_meteo.info()"
   ]
  },
  {
   "cell_type": "code",
   "execution_count": 66,
   "metadata": {},
   "outputs": [
    {
     "data": {
      "text/html": [
       "<div>\n",
       "<style scoped>\n",
       "    .dataframe tbody tr th:only-of-type {\n",
       "        vertical-align: middle;\n",
       "    }\n",
       "\n",
       "    .dataframe tbody tr th {\n",
       "        vertical-align: top;\n",
       "    }\n",
       "\n",
       "    .dataframe thead th {\n",
       "        text-align: right;\n",
       "    }\n",
       "</style>\n",
       "<table border=\"1\" class=\"dataframe\">\n",
       "  <thead>\n",
       "    <tr style=\"text-align: right;\">\n",
       "      <th></th>\n",
       "      <th>date</th>\n",
       "      <th>Station</th>\n",
       "      <th>Status</th>\n",
       "      <th>Vélos_dispos</th>\n",
       "      <th>Emplacements_dispos</th>\n",
       "    </tr>\n",
       "  </thead>\n",
       "  <tbody>\n",
       "    <tr>\n",
       "      <th>0</th>\n",
       "      <td>2014-11-14 09:35:38</td>\n",
       "      <td>Duc</td>\n",
       "      <td>1</td>\n",
       "      <td>4</td>\n",
       "      <td>5</td>\n",
       "    </tr>\n",
       "    <tr>\n",
       "      <th>1</th>\n",
       "      <td>2014-11-14 09:35:38</td>\n",
       "      <td>Ospedale Maggiore</td>\n",
       "      <td>1</td>\n",
       "      <td>2</td>\n",
       "      <td>7</td>\n",
       "    </tr>\n",
       "    <tr>\n",
       "      <th>2</th>\n",
       "      <td>2014-11-14 09:35:38</td>\n",
       "      <td>Traversetolo</td>\n",
       "      <td>1</td>\n",
       "      <td>2</td>\n",
       "      <td>7</td>\n",
       "    </tr>\n",
       "    <tr>\n",
       "      <th>3</th>\n",
       "      <td>2014-11-14 09:35:38</td>\n",
       "      <td>Campus Chimica</td>\n",
       "      <td>1</td>\n",
       "      <td>4</td>\n",
       "      <td>5</td>\n",
       "    </tr>\n",
       "    <tr>\n",
       "      <th>4</th>\n",
       "      <td>2014-11-14 09:35:38</td>\n",
       "      <td>Stazione FF.SS.</td>\n",
       "      <td>1</td>\n",
       "      <td>9</td>\n",
       "      <td>10</td>\n",
       "    </tr>\n",
       "  </tbody>\n",
       "</table>\n",
       "</div>"
      ],
      "text/plain": [
       "                 date            Station  Status  Vélos_dispos  \\\n",
       "0 2014-11-14 09:35:38                Duc       1             4   \n",
       "1 2014-11-14 09:35:38  Ospedale Maggiore       1             2   \n",
       "2 2014-11-14 09:35:38       Traversetolo       1             2   \n",
       "3 2014-11-14 09:35:38     Campus Chimica       1             4   \n",
       "4 2014-11-14 09:35:38    Stazione FF.SS.       1             9   \n",
       "\n",
       "   Emplacements_dispos  \n",
       "0                    5  \n",
       "1                    7  \n",
       "2                    7  \n",
       "3                    5  \n",
       "4                   10  "
      ]
     },
     "execution_count": 66,
     "metadata": {},
     "output_type": "execute_result"
    }
   ],
   "source": [
    "df_status.head()"
   ]
  },
  {
   "cell_type": "code",
   "execution_count": 68,
   "metadata": {},
   "outputs": [
    {
     "name": "stdout",
     "output_type": "stream",
     "text": [
      "<class 'pandas.core.frame.DataFrame'>\n",
      "RangeIndex: 1000 entries, 0 to 999\n",
      "Data columns (total 5 columns):\n",
      "date                   1000 non-null datetime64[ns]\n",
      "Station                1000 non-null object\n",
      "Status                 1000 non-null int64\n",
      "Vélos_dispos           1000 non-null int64\n",
      "Emplacements_dispos    1000 non-null int64\n",
      "dtypes: datetime64[ns](1), int64(3), object(1)\n",
      "memory usage: 39.1+ KB\n"
     ]
    }
   ],
   "source": [
    "df_status.info()"
   ]
  },
  {
   "cell_type": "code",
   "execution_count": 49,
   "metadata": {},
   "outputs": [
    {
     "data": {
      "text/html": [
       "<div>\n",
       "<style scoped>\n",
       "    .dataframe tbody tr th:only-of-type {\n",
       "        vertical-align: middle;\n",
       "    }\n",
       "\n",
       "    .dataframe tbody tr th {\n",
       "        vertical-align: top;\n",
       "    }\n",
       "\n",
       "    .dataframe thead th {\n",
       "        text-align: right;\n",
       "    }\n",
       "</style>\n",
       "<table border=\"1\" class=\"dataframe\">\n",
       "  <thead>\n",
       "    <tr style=\"text-align: right;\">\n",
       "      <th></th>\n",
       "      <th>system</th>\n",
       "      <th>station</th>\n",
       "      <th>latitude</th>\n",
       "      <th>longitude</th>\n",
       "      <th>elevation</th>\n",
       "    </tr>\n",
       "  </thead>\n",
       "  <tbody>\n",
       "    <tr>\n",
       "      <th>0</th>\n",
       "      <td>bicincitta_parma</td>\n",
       "      <td>01. Duc</td>\n",
       "      <td>44.807118</td>\n",
       "      <td>10.332934</td>\n",
       "      <td>51.076065</td>\n",
       "    </tr>\n",
       "    <tr>\n",
       "      <th>1</th>\n",
       "      <td>bicincitta_parma</td>\n",
       "      <td>02. Ospedale Maggiore</td>\n",
       "      <td>44.802263</td>\n",
       "      <td>10.306275</td>\n",
       "      <td>56.344078</td>\n",
       "    </tr>\n",
       "    <tr>\n",
       "      <th>2</th>\n",
       "      <td>bicincitta_parma</td>\n",
       "      <td>03. Traversetolo</td>\n",
       "      <td>44.781595</td>\n",
       "      <td>10.344492</td>\n",
       "      <td>58.324486</td>\n",
       "    </tr>\n",
       "    <tr>\n",
       "      <th>3</th>\n",
       "      <td>bicincitta_parma</td>\n",
       "      <td>04. Campus Chimica</td>\n",
       "      <td>44.766433</td>\n",
       "      <td>10.314547</td>\n",
       "      <td>76.587212</td>\n",
       "    </tr>\n",
       "    <tr>\n",
       "      <th>4</th>\n",
       "      <td>bicincitta_parma</td>\n",
       "      <td>05. Stazione FF.SS.</td>\n",
       "      <td>44.809888</td>\n",
       "      <td>10.327693</td>\n",
       "      <td>57.179089</td>\n",
       "    </tr>\n",
       "  </tbody>\n",
       "</table>\n",
       "</div>"
      ],
      "text/plain": [
       "             system                station   latitude  longitude  elevation\n",
       "0  bicincitta_parma                01. Duc  44.807118  10.332934  51.076065\n",
       "1  bicincitta_parma  02. Ospedale Maggiore  44.802263  10.306275  56.344078\n",
       "2  bicincitta_parma       03. Traversetolo  44.781595  10.344492  58.324486\n",
       "3  bicincitta_parma     04. Campus Chimica  44.766433  10.314547  76.587212\n",
       "4  bicincitta_parma    05. Stazione FF.SS.  44.809888  10.327693  57.179089"
      ]
     },
     "execution_count": 49,
     "metadata": {},
     "output_type": "execute_result"
    }
   ],
   "source": [
    "df_velos.head()"
   ]
  },
  {
   "cell_type": "markdown",
   "metadata": {},
   "source": [
    "#### Erreur de collecte "
   ]
  },
  {
   "cell_type": "code",
   "execution_count": 71,
   "metadata": {},
   "outputs": [],
   "source": [
    "# On supprime les lignes pour lesquelles il y a eu une erreur de collecte\n",
    "df_status = df_status[df_status.Status != 1]"
   ]
  },
  {
   "cell_type": "code",
   "execution_count": null,
   "metadata": {},
   "outputs": [],
   "source": []
  }
 ],
 "metadata": {
  "kernelspec": {
   "display_name": "Python 3",
   "language": "python",
   "name": "python3"
  },
  "language_info": {
   "codemirror_mode": {
    "name": "ipython",
    "version": 3
   },
   "file_extension": ".py",
   "mimetype": "text/x-python",
   "name": "python",
   "nbconvert_exporter": "python",
   "pygments_lexer": "ipython3",
   "version": "3.7.3"
  }
 },
 "nbformat": 4,
 "nbformat_minor": 2
}
